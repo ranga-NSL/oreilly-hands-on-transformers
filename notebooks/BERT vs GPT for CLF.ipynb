{
 "cells": [
  {
   "cell_type": "code",
   "execution_count": 21,
   "id": "db0ddb28-01c2-460d-bc30-25f8566914f0",
   "metadata": {},
   "outputs": [
    {
     "name": "stdout",
     "output_type": "stream",
     "text": [
      "2.5.1\n",
      "CUDA available: True\n"
     ]
    }
   ],
   "source": [
    "# For PyTorch:\n",
    "import torch\n",
    "print(torch.__version__)\n",
    "print(\"CUDA available:\", torch.cuda.is_available())\n",
    "\n",
    "\n",
    "\n"
   ]
  },
  {
   "cell_type": "code",
   "execution_count": 22,
   "id": "e20776fc-005c-4c43-bfd2-e4d2235c7c83",
   "metadata": {},
   "outputs": [
    {
     "name": "stdout",
     "output_type": "stream",
     "text": [
      "Transformers version: 4.45.2\n"
     ]
    }
   ],
   "source": [
    "import transformers\n",
    "\n",
    "print(\"Transformers version:\", transformers.__version__)\n"
   ]
  },
  {
   "cell_type": "code",
   "execution_count": 23,
   "id": "6f5e930e-c00c-486e-94b1-0ed91a29b77c",
   "metadata": {},
   "outputs": [
    {
     "name": "stdout",
     "output_type": "stream",
     "text": [
      "Datasets version: 2.19.1\n"
     ]
    }
   ],
   "source": [
    "\n",
    "import datasets\n",
    "\n",
    "print(\"Datasets version:\", datasets.__version__)"
   ]
  },
  {
   "cell_type": "code",
   "execution_count": 24,
   "id": "9b1ab691-51d0-40f0-85f9-0e905b65f7de",
   "metadata": {},
   "outputs": [],
   "source": [
    "from transformers import AutoTokenizer, AutoModelForSequenceClassification, DataCollatorWithPadding, Trainer, TrainingArguments\n"
   ]
  },
  {
   "cell_type": "code",
   "execution_count": 25,
   "id": "b146a4ef-f70e-4a2d-939f-f88edc7a74cf",
   "metadata": {},
   "outputs": [],
   "source": [
    "import evaluate\n",
    "import numpy as npcond\n",
    "from datasets import load_metric, load_dataset\n",
    "import random"
   ]
  },
  {
   "cell_type": "code",
   "execution_count": 26,
   "id": "e589b8a4-c8b5-464a-aad0-8c8e13054e48",
   "metadata": {},
   "outputs": [],
   "source": [
    "# Defining a constant SEED for reproducibility in random operations\n",
    "SEED = 42\n",
    "\n",
    "# Setting the seed for the random library to ensure consistent results\n",
    "random.seed(SEED)"
   ]
  },
  {
   "cell_type": "code",
   "execution_count": 27,
   "id": "7d2dc0c4-8932-4889-975d-05160be113ce",
   "metadata": {},
   "outputs": [
    {
     "data": {
      "text/plain": [
       "Dataset({\n",
       "    features: ['package_name', 'review', 'date', 'star'],\n",
       "    num_rows: 288065\n",
       "})"
      ]
     },
     "execution_count": 27,
     "metadata": {},
     "output_type": "execute_result"
    }
   ],
   "source": [
    "# 'star' is a column in our dataset and we want to convert it to a ClassLabel column\n",
    "# so we can stratify our samples.\n",
    "\n",
    "# Importing the ClassLabel module to represent categorical class labels\n",
    "from datasets import ClassLabel\n",
    "\n",
    "# Loading the 'app_reviews' dataset's training split into the 'dataset' variable\n",
    "dataset = load_dataset('app_reviews', split='train')\n",
    "\n",
    "# Converting the 'star' column in our dataset to a ClassLabel type\n",
    "# This allows for categorical representation and easier handling of classes\n",
    "dataset = dataset.class_encode_column('star')\n",
    "\n",
    "# Displaying the dataset to see the changes\n",
    "dataset"
   ]
  },
  {
   "cell_type": "code",
   "execution_count": 28,
   "id": "ffe447c4-fc0e-4727-8538-aee1d4d2fa53",
   "metadata": {},
   "outputs": [
    {
     "data": {
      "text/plain": [
       "DatasetDict({\n",
       "    train: Dataset({\n",
       "        features: ['package_name', 'review', 'date', 'star'],\n",
       "        num_rows: 172839\n",
       "    })\n",
       "    test: Dataset({\n",
       "        features: ['package_name', 'review', 'date', 'star'],\n",
       "        num_rows: 57613\n",
       "    })\n",
       "    val: Dataset({\n",
       "        features: ['package_name', 'review', 'date', 'star'],\n",
       "        num_rows: 57613\n",
       "    })\n",
       "})"
      ]
     },
     "execution_count": 28,
     "metadata": {},
     "output_type": "execute_result"
    }
   ],
   "source": [
    "# Splitting the dataset into a training set and a test set.\n",
    "# We reserve 20% of the data for testing and use stratification on the 'star' column\n",
    "# to ensure both sets have an equal distribution of each star category.\n",
    "dataset = dataset.train_test_split(test_size=0.2, seed=SEED, stratify_by_column='star')\n",
    "\n",
    "# Now, we further split our training dataset to reserve 25% of it for validation.\n",
    "# Again, we stratify by the 'star' column to keep the distribution consistent.\n",
    "df = dataset['train'].train_test_split(test_size=.25, seed=SEED, stratify_by_column='star')\n",
    "\n",
    "# Assigning the split datasets to their respective keys:\n",
    "# - The remaining 75% of our initial training data becomes the new training dataset.\n",
    "dataset['train'] = df['train']\n",
    "\n",
    "# - The 25% split from our initial training data becomes the validation dataset.\n",
    "dataset['val'] = df['test']\n",
    "\n",
    "# Displaying the dataset to see the distribution across train, test, and validation sets.\n",
    "dataset"
   ]
  },
  {
   "cell_type": "code",
   "execution_count": 29,
   "id": "f25c4761-bc78-408c-aa4d-21119b9779b1",
   "metadata": {},
   "outputs": [
    {
     "name": "stderr",
     "output_type": "stream",
     "text": [
      "loading configuration file config.json from cache at C:\\Users\\ranga\\.cache\\huggingface\\hub\\models--distilbert-base-cased\\snapshots\\6ea81172465e8b0ad3fddeed32b986cdcdcffcf0\\config.json\n",
      "Model config DistilBertConfig {\n",
      "  \"_name_or_path\": \"distilbert-base-cased\",\n",
      "  \"activation\": \"gelu\",\n",
      "  \"architectures\": [\n",
      "    \"DistilBertForMaskedLM\"\n",
      "  ],\n",
      "  \"attention_dropout\": 0.1,\n",
      "  \"dim\": 768,\n",
      "  \"dropout\": 0.1,\n",
      "  \"hidden_dim\": 3072,\n",
      "  \"initializer_range\": 0.02,\n",
      "  \"max_position_embeddings\": 512,\n",
      "  \"model_type\": \"distilbert\",\n",
      "  \"n_heads\": 12,\n",
      "  \"n_layers\": 6,\n",
      "  \"output_past\": true,\n",
      "  \"pad_token_id\": 0,\n",
      "  \"qa_dropout\": 0.1,\n",
      "  \"seq_classif_dropout\": 0.2,\n",
      "  \"sinusoidal_pos_embds\": false,\n",
      "  \"tie_weights_\": true,\n",
      "  \"transformers_version\": \"4.45.2\",\n",
      "  \"vocab_size\": 28996\n",
      "}\n",
      "\n",
      "loading file vocab.txt from cache at C:\\Users\\ranga\\.cache\\huggingface\\hub\\models--distilbert-base-cased\\snapshots\\6ea81172465e8b0ad3fddeed32b986cdcdcffcf0\\vocab.txt\n",
      "loading file tokenizer.json from cache at C:\\Users\\ranga\\.cache\\huggingface\\hub\\models--distilbert-base-cased\\snapshots\\6ea81172465e8b0ad3fddeed32b986cdcdcffcf0\\tokenizer.json\n",
      "loading file added_tokens.json from cache at None\n",
      "loading file special_tokens_map.json from cache at None\n",
      "loading file tokenizer_config.json from cache at C:\\Users\\ranga\\.cache\\huggingface\\hub\\models--distilbert-base-cased\\snapshots\\6ea81172465e8b0ad3fddeed32b986cdcdcffcf0\\tokenizer_config.json\n",
      "loading configuration file config.json from cache at C:\\Users\\ranga\\.cache\\huggingface\\hub\\models--distilbert-base-cased\\snapshots\\6ea81172465e8b0ad3fddeed32b986cdcdcffcf0\\config.json\n",
      "Model config DistilBertConfig {\n",
      "  \"_name_or_path\": \"distilbert-base-cased\",\n",
      "  \"activation\": \"gelu\",\n",
      "  \"architectures\": [\n",
      "    \"DistilBertForMaskedLM\"\n",
      "  ],\n",
      "  \"attention_dropout\": 0.1,\n",
      "  \"dim\": 768,\n",
      "  \"dropout\": 0.1,\n",
      "  \"hidden_dim\": 3072,\n",
      "  \"initializer_range\": 0.02,\n",
      "  \"max_position_embeddings\": 512,\n",
      "  \"model_type\": \"distilbert\",\n",
      "  \"n_heads\": 12,\n",
      "  \"n_layers\": 6,\n",
      "  \"output_past\": true,\n",
      "  \"pad_token_id\": 0,\n",
      "  \"qa_dropout\": 0.1,\n",
      "  \"seq_classif_dropout\": 0.2,\n",
      "  \"sinusoidal_pos_embds\": false,\n",
      "  \"tie_weights_\": true,\n",
      "  \"transformers_version\": \"4.45.2\",\n",
      "  \"vocab_size\": 28996\n",
      "}\n",
      "\n"
     ]
    }
   ],
   "source": [
    "MODEL = 'distilbert-base-cased'\n",
    "\n",
    "tokenizer = AutoTokenizer.from_pretrained(MODEL)"
   ]
  },
  {
   "cell_type": "code",
   "execution_count": 30,
   "id": "1c17e580-5916-450b-98da-c7c9b7474646",
   "metadata": {},
   "outputs": [],
   "source": [
    "# simple function to batch tokenize utterances with truncation\n",
    "def preprocess_function(examples):  # each example is an element from the Dataset\n",
    "    return tokenizer(examples[\"review\"], truncation=True)"
   ]
  },
  {
   "cell_type": "code",
   "execution_count": 31,
   "id": "8f17cad6-e4e9-4b10-ab03-7dd2e5e7d669",
   "metadata": {},
   "outputs": [],
   "source": [
    "# DataCollatorWithPadding creates batch of data. It also dynamically pads text to the \n",
    "#  length of the longest element in the batch, making them all the same length. \n",
    "#  It's possible to pad your text in the tokenizer function with padding=True, dynamic padding is more efficient.\n",
    "\n",
    "data_collator = DataCollatorWithPadding(tokenizer=tokenizer)"
   ]
  },
  {
   "cell_type": "code",
   "execution_count": null,
   "id": "626208d0-1e66-4559-a80b-f2888cc1a1cf",
   "metadata": {},
   "outputs": [],
   "source": []
  },
  {
   "cell_type": "code",
   "execution_count": 32,
   "id": "2728591b-2795-4bb3-b1a6-d83a31a51c47",
   "metadata": {},
   "outputs": [
    {
     "name": "stderr",
     "output_type": "stream",
     "text": [
      "loading configuration file config.json from cache at C:\\Users\\ranga\\.cache\\huggingface\\hub\\models--distilbert-base-cased\\snapshots\\6ea81172465e8b0ad3fddeed32b986cdcdcffcf0\\config.json\n",
      "Model config DistilBertConfig {\n",
      "  \"_name_or_path\": \"distilbert-base-cased\",\n",
      "  \"activation\": \"gelu\",\n",
      "  \"architectures\": [\n",
      "    \"DistilBertForMaskedLM\"\n",
      "  ],\n",
      "  \"attention_dropout\": 0.1,\n",
      "  \"dim\": 768,\n",
      "  \"dropout\": 0.1,\n",
      "  \"hidden_dim\": 3072,\n",
      "  \"id2label\": {\n",
      "    \"0\": \"LABEL_0\",\n",
      "    \"1\": \"LABEL_1\",\n",
      "    \"2\": \"LABEL_2\",\n",
      "    \"3\": \"LABEL_3\",\n",
      "    \"4\": \"LABEL_4\"\n",
      "  },\n",
      "  \"initializer_range\": 0.02,\n",
      "  \"label2id\": {\n",
      "    \"LABEL_0\": 0,\n",
      "    \"LABEL_1\": 1,\n",
      "    \"LABEL_2\": 2,\n",
      "    \"LABEL_3\": 3,\n",
      "    \"LABEL_4\": 4\n",
      "  },\n",
      "  \"max_position_embeddings\": 512,\n",
      "  \"model_type\": \"distilbert\",\n",
      "  \"n_heads\": 12,\n",
      "  \"n_layers\": 6,\n",
      "  \"output_past\": true,\n",
      "  \"pad_token_id\": 0,\n",
      "  \"qa_dropout\": 0.1,\n",
      "  \"seq_classif_dropout\": 0.2,\n",
      "  \"sinusoidal_pos_embds\": false,\n",
      "  \"tie_weights_\": true,\n",
      "  \"transformers_version\": \"4.45.2\",\n",
      "  \"vocab_size\": 28996\n",
      "}\n",
      "\n",
      "loading weights file model.safetensors from cache at C:\\Users\\ranga\\.cache\\huggingface\\hub\\models--distilbert-base-cased\\snapshots\\6ea81172465e8b0ad3fddeed32b986cdcdcffcf0\\model.safetensors\n",
      "Some weights of the model checkpoint at distilbert-base-cased were not used when initializing DistilBertForSequenceClassification: ['vocab_layer_norm.bias', 'vocab_layer_norm.weight', 'vocab_projector.bias', 'vocab_transform.bias', 'vocab_transform.weight']\n",
      "- This IS expected if you are initializing DistilBertForSequenceClassification from the checkpoint of a model trained on another task or with another architecture (e.g. initializing a BertForSequenceClassification model from a BertForPreTraining model).\n",
      "- This IS NOT expected if you are initializing DistilBertForSequenceClassification from the checkpoint of a model that you expect to be exactly identical (initializing a BertForSequenceClassification model from a BertForSequenceClassification model).\n",
      "Some weights of DistilBertForSequenceClassification were not initialized from the model checkpoint at distilbert-base-cased and are newly initialized: ['classifier.bias', 'classifier.weight', 'pre_classifier.bias', 'pre_classifier.weight']\n",
      "You should probably TRAIN this model on a down-stream task to be able to use it for predictions and inference.\n"
     ]
    }
   ],
   "source": [
    "sequence_clf_model = AutoModelForSequenceClassification.from_pretrained(\n",
    "    MODEL,\n",
    "    num_labels=5,\n",
    ")"
   ]
  },
  {
   "cell_type": "code",
   "execution_count": 33,
   "id": "a44cd57d-d439-4432-b899-995dbc35d712",
   "metadata": {},
   "outputs": [
    {
     "data": {
      "text/plain": [
       "DistilBertForSequenceClassification(\n",
       "  (distilbert): DistilBertModel(\n",
       "    (embeddings): Embeddings(\n",
       "      (word_embeddings): Embedding(28996, 768, padding_idx=0)\n",
       "      (position_embeddings): Embedding(512, 768)\n",
       "      (LayerNorm): LayerNorm((768,), eps=1e-12, elementwise_affine=True)\n",
       "      (dropout): Dropout(p=0.1, inplace=False)\n",
       "    )\n",
       "    (transformer): Transformer(\n",
       "      (layer): ModuleList(\n",
       "        (0-5): 6 x TransformerBlock(\n",
       "          (attention): MultiHeadSelfAttention(\n",
       "            (dropout): Dropout(p=0.1, inplace=False)\n",
       "            (q_lin): Linear(in_features=768, out_features=768, bias=True)\n",
       "            (k_lin): Linear(in_features=768, out_features=768, bias=True)\n",
       "            (v_lin): Linear(in_features=768, out_features=768, bias=True)\n",
       "            (out_lin): Linear(in_features=768, out_features=768, bias=True)\n",
       "          )\n",
       "          (sa_layer_norm): LayerNorm((768,), eps=1e-12, elementwise_affine=True)\n",
       "          (ffn): FFN(\n",
       "            (dropout): Dropout(p=0.1, inplace=False)\n",
       "            (lin1): Linear(in_features=768, out_features=3072, bias=True)\n",
       "            (lin2): Linear(in_features=3072, out_features=768, bias=True)\n",
       "            (activation): GELUActivation()\n",
       "          )\n",
       "          (output_layer_norm): LayerNorm((768,), eps=1e-12, elementwise_affine=True)\n",
       "        )\n",
       "      )\n",
       "    )\n",
       "  )\n",
       "  (pre_classifier): Linear(in_features=768, out_features=768, bias=True)\n",
       "  (classifier): Linear(in_features=768, out_features=5, bias=True)\n",
       "  (dropout): Dropout(p=0.2, inplace=False)\n",
       ")"
      ]
     },
     "execution_count": 33,
     "metadata": {},
     "output_type": "execute_result"
    }
   ],
   "source": [
    "sequence_clf_model"
   ]
  },
  {
   "cell_type": "code",
   "execution_count": 34,
   "id": "92a44187-d471-40f7-a47c-1df5e3083440",
   "metadata": {},
   "outputs": [],
   "source": [
    "dataset = dataset.map(preprocess_function, batched=True)"
   ]
  },
  {
   "cell_type": "code",
   "execution_count": 35,
   "id": "1b42374d-8e48-4b0e-88a7-87b801067855",
   "metadata": {},
   "outputs": [
    {
     "data": {
      "text/plain": [
       "DatasetDict({\n",
       "    train: Dataset({\n",
       "        features: ['label', 'input_ids', 'attention_mask'],\n",
       "        num_rows: 172839\n",
       "    })\n",
       "    test: Dataset({\n",
       "        features: ['label', 'input_ids', 'attention_mask'],\n",
       "        num_rows: 57613\n",
       "    })\n",
       "    val: Dataset({\n",
       "        features: ['label', 'input_ids', 'attention_mask'],\n",
       "        num_rows: 57613\n",
       "    })\n",
       "})"
      ]
     },
     "execution_count": 35,
     "metadata": {},
     "output_type": "execute_result"
    }
   ],
   "source": [
    "dataset = dataset.rename_column(\"star\", \"label\")\n",
    "dataset = dataset.remove_columns(['package_name', 'review', 'date'])\n",
    "dataset"
   ]
  },
  {
   "cell_type": "code",
   "execution_count": 36,
   "id": "c5824878-f25d-450b-8afd-81a3a0879abc",
   "metadata": {},
   "outputs": [
    {
     "data": {
      "text/plain": [
       "<Axes: >"
      ]
     },
     "execution_count": 36,
     "metadata": {},
     "output_type": "execute_result"
    },
    {
     "data": {
      "image/png": "[encoded data removed]",
      "text/plain": [
       "<Figure size 640x480 with 1 Axes>"
      ]
     },
     "metadata": {},
     "output_type": "display_data"
    }
   ],
   "source": [
    "import pandas as pd\n",
    "\n",
    "input_ids = dataset['train']['input_ids']\n",
    "pd.Series(input_ids).apply(len).hist()"
   ]
  },
  {
   "cell_type": "code",
   "execution_count": 37,
   "id": "d278028c-193e-4cd6-b443-46eabfbe11d2",
   "metadata": {},
   "outputs": [
    {
     "data": {
      "text/plain": [
       "DatasetDict({\n",
       "    train: Dataset({\n",
       "        features: ['label', 'input_ids', 'attention_mask'],\n",
       "        num_rows: 172839\n",
       "    })\n",
       "    test: Dataset({\n",
       "        features: ['label', 'input_ids', 'attention_mask'],\n",
       "        num_rows: 57613\n",
       "    })\n",
       "    val: Dataset({\n",
       "        features: ['label', 'input_ids', 'attention_mask'],\n",
       "        num_rows: 57613\n",
       "    })\n",
       "})"
      ]
     },
     "execution_count": 37,
     "metadata": {},
     "output_type": "execute_result"
    }
   ],
   "source": [
    "dataset"
   ]
  },
  {
   "cell_type": "code",
   "execution_count": 38,
   "id": "f4136b95-d3e1-4b1a-861c-e92b6f44a423",
   "metadata": {},
   "outputs": [],
   "source": [
    "def compute_metrics(p):\n",
    "    preds = np.argmax(p.predictions, axis=1)\n",
    "    return {\"accuracy\": (preds == p.label_ids).mean()}\n"
   ]
  },
  {
   "cell_type": "code",
   "execution_count": 39,
   "id": "f59d37f9-d732-4543-90c0-315bedf9415b",
   "metadata": {},
   "outputs": [
    {
     "name": "stderr",
     "output_type": "stream",
     "text": [
      "PyTorch: setting up devices\n",
      "The default value for the training argument `--report_to` will change in v5 (from all installed integrations to none). In v5, you will need to use `--report_to all` to get the same behavior as now. You should start updating your code and make this info disappear :-).\n"
     ]
    }
   ],
   "source": [
    "epochs = 2\n",
    "\n",
    "training_args = TrainingArguments(\n",
    "    output_dir=\"./bert_clf_results\",\n",
    "    num_train_epochs=epochs,\n",
    "    per_device_train_batch_size=16,\n",
    "    gradient_accumulation_steps=2,\n",
    "    per_device_eval_batch_size=32,\n",
    "    load_best_model_at_end=True,\n",
    "    \n",
    "    # Some deep learning parameters\n",
    "    warmup_ratio=0.1,\n",
    "    weight_decay=0.05,\n",
    "    \n",
    "    logging_steps=1,\n",
    "    log_level='info',\n",
    "    eval_strategy='epoch',  # Updated parameter\n",
    "    eval_steps=50,\n",
    "    save_strategy='epoch'\n",
    ")\n",
    "\n",
    "\n",
    "# Define the trainer:\n",
    "\n",
    "trainer = Trainer(\n",
    "    model=sequence_clf_model,\n",
    "    args=training_args,\n",
    "    train_dataset=dataset['train'],\n",
    "    eval_dataset=dataset['val'],\n",
    "    compute_metrics=compute_metrics,  # optional\n",
    "    data_collator=data_collator  # technically optional\n",
    ")"
   ]
  },
  {
   "cell_type": "code",
   "execution_count": 43,
   "id": "5bfdefac-a0d4-435f-be2f-1287547b4397",
   "metadata": {},
   "outputs": [
    {
     "name": "stderr",
     "output_type": "stream",
     "text": [
      "\n",
      "***** Running Evaluation *****\n",
      "  Num examples = 57613\n",
      "  Batch size = 32\n"
     ]
    },
    {
     "data": {
      "text/plain": [
       "{'eval_loss': 1.6418410539627075,\n",
       " 'eval_model_preparation_time': 0.001,\n",
       " 'eval_accuracy': 0.08052002152292018,\n",
       " 'eval_runtime': 61.4392,\n",
       " 'eval_samples_per_second': 937.724,\n",
       " 'eval_steps_per_second': 29.314}"
      ]
     },
     "execution_count": 43,
     "metadata": {},
     "output_type": "execute_result"
    }
   ],
   "source": [
    "import numpy as np\n",
    "trainer.evaluate()"
   ]
  },
  {
   "cell_type": "code",
   "execution_count": 44,
   "id": "603b86ef-3da5-4c58-a593-7c8386229d8a",
   "metadata": {},
   "outputs": [
    {
     "name": "stderr",
     "output_type": "stream",
     "text": [
      "***** Running training *****\n",
      "  Num examples = 172,839\n",
      "  Num Epochs = 2\n",
      "  Instantaneous batch size per device = 16\n",
      "  Total train batch size (w. parallel, distributed & accumulation) = 32\n",
      "  Gradient Accumulation steps = 2\n",
      "  Total optimization steps = 10,802\n",
      "  Number of trainable parameters = 65,785,349\n"
     ]
    },
    {
     "data": {
      "text/html": [
       "\n",
       "    <div>\n",
       "      \n",
       "      <progress value='10802' max='10802' style='width:300px; height:20px; vertical-align: middle;'></progress>\n",
       "      [10802/10802 22:03, Epoch 1/2]\n",
       "    </div>\n",
       "    <table border=\"1\" class=\"dataframe\">\n",
       "  <thead>\n",
       " <tr style=\"text-align: left;\">\n",
       "      <th>Epoch</th>\n",
       "      <th>Training Loss</th>\n",
       "      <th>Validation Loss</th>\n",
       "      <th>Model Preparation Time</th>\n",
       "      <th>Accuracy</th>\n",
       "    </tr>\n",
       "  </thead>\n",
       "  <tbody>\n",
       "    <tr>\n",
       "      <td>0</td>\n",
       "      <td>1.033400</td>\n",
       "      <td>0.835022</td>\n",
       "      <td>0.001000</td>\n",
       "      <td>0.712044</td>\n",
       "    </tr>\n",
       "    <tr>\n",
       "      <td>1</td>\n",
       "      <td>0.636800</td>\n",
       "      <td>0.820615</td>\n",
       "      <td>0.001000</td>\n",
       "      <td>0.716817</td>\n",
       "    </tr>\n",
       "  </tbody>\n",
       "</table><p>"
      ],
      "text/plain": [
       "<IPython.core.display.HTML object>"
      ]
     },
     "metadata": {},
     "output_type": "display_data"
    },
    {
     "name": "stderr",
     "output_type": "stream",
     "text": [
      "\n",
      "***** Running Evaluation *****\n",
      "  Num examples = 57613\n",
      "  Batch size = 32\n",
      "Saving model checkpoint to ./bert_clf_results\\checkpoint-5401\n",
      "Configuration saved in ./bert_clf_results\\checkpoint-5401\\config.json\n",
      "Model weights saved in ./bert_clf_results\\checkpoint-5401\\model.safetensors\n",
      "Saving model checkpoint to ./bert_clf_results\\checkpoint-10802\n",
      "Configuration saved in ./bert_clf_results\\checkpoint-10802\\config.json\n",
      "Model weights saved in ./bert_clf_results\\checkpoint-10802\\model.safetensors\n",
      "\n",
      "***** Running Evaluation *****\n",
      "  Num examples = 57613\n",
      "  Batch size = 32\n",
      "Saving model checkpoint to ./bert_clf_results\\checkpoint-10802\n",
      "Configuration saved in ./bert_clf_results\\checkpoint-10802\\config.json\n",
      "Model weights saved in ./bert_clf_results\\checkpoint-10802\\model.safetensors\n",
      "\n",
      "\n",
      "Training completed. Do not forget to share your model on huggingface.co/models =)\n",
      "\n",
      "\n",
      "Loading best model from ./bert_clf_results\\checkpoint-10802 (score: 0.8206145167350769).\n"
     ]
    },
    {
     "data": {
      "text/plain": [
       "TrainOutput(global_step=10802, training_loss=0.828483936148393, metrics={'train_runtime': 1323.3475, 'train_samples_per_second': 261.215, 'train_steps_per_second': 8.163, 'total_flos': 7021672727177670.0, 'train_loss': 0.828483936148393, 'epoch': 1.999814866240859})"
      ]
     },
     "execution_count": 44,
     "metadata": {},
     "output_type": "execute_result"
    }
   ],
   "source": [
    "trainer.train()"
   ]
  },
  {
   "cell_type": "code",
   "execution_count": null,
   "id": "d513fba4-4640-430b-8c62-35e92fe39274",
   "metadata": {},
   "outputs": [],
   "source": [
    "# See colab link for comparison on there!\n",
    "# compare to fine tuned gpt 3.5\n",
    "    # accuracy\n",
    "    # cost to train/host (on HF or make your own API)\n",
    "    # latency/throughput\n",
    "    "
   ]
  },
  {
   "cell_type": "code",
   "execution_count": null,
   "id": "8e117977-822c-460a-8b91-462eb6d4a340",
   "metadata": {},
   "outputs": [],
   "source": []
  },
  {
   "cell_type": "code",
   "execution_count": null,
   "id": "c55b7b6e-64f9-4da3-802f-f480c9045ac4",
   "metadata": {},
   "outputs": [],
   "source": []
  }
 ],
 "metadata": {
  "kernelspec": {
   "display_name": "Python 3 (ipykernel)",
   "language": "python",
   "name": "python3"
  },
  "language_info": {
   "codemirror_mode": {
    "name": "ipython",
    "version": 3
   },
   "file_extension": ".py",
   "mimetype": "text/x-python",
   "name": "python",
   "nbconvert_exporter": "python",
   "pygments_lexer": "ipython3",
   "version": "3.9.20"
  }
 },
 "nbformat": 4,
 "nbformat_minor": 5
}
